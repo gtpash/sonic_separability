{
 "cells": [
  {
   "cell_type": "markdown",
   "id": "be57d1bc",
   "metadata": {},
   "source": [
    "## Necessary Imports"
   ]
  },
  {
   "cell_type": "code",
   "execution_count": 1,
   "id": "a8c9c186",
   "metadata": {
    "scrolled": true
   },
   "outputs": [
    {
     "name": "stderr",
     "output_type": "stream",
     "text": [
      "2022-05-02 22:35:56.040794: W tensorflow/stream_executor/platform/default/dso_loader.cc:64] Could not load dynamic library 'libcudart.so.11.0'; dlerror: libcudart.so.11.0: cannot open shared object file: No such file or directory\n",
      "2022-05-02 22:35:56.040845: I tensorflow/stream_executor/cuda/cudart_stub.cc:29] Ignore above cudart dlerror if you do not have a GPU set up on your machine.\n",
      "Intel(R) Extension for Scikit-learn* enabled (https://github.com/intel/scikit-learn-intelex)\n",
      "Intel(R) Extension for Scikit-learn* enabled (https://github.com/intel/scikit-learn-intelex)\n"
     ]
    }
   ],
   "source": [
    "%load_ext autoreload\n",
    "%autoreload 2\n",
    "\n",
    "import math\n",
    "import os\n",
    "import json\n",
    "\n",
    "import tensorflow as tf\n",
    "import tensorflow.keras as keras\n",
    "\n",
    "import librosa\n",
    "\n",
    "import numpy as np\n",
    "import seaborn as sns\n",
    "import pandas as pd\n",
    "\n",
    "from sklearnex import patch_sklearn\n",
    "patch_sklearn()\n",
    "\n",
    "import matplotlib.pyplot as plt\n",
    "%matplotlib inline\n",
    "\n",
    "# custom helper functions\n",
    "from utils import *\n",
    "\n",
    "RANDOM_SEED = 0"
   ]
  },
  {
   "cell_type": "markdown",
   "id": "5c9c0d4c",
   "metadata": {},
   "source": [
    "## Load Data"
   ]
  },
  {
   "cell_type": "code",
   "execution_count": 2,
   "id": "bd31be40",
   "metadata": {},
   "outputs": [],
   "source": [
    "FMA_JSON_PATH = \"/storage/graham/music/fma_small_data.json\"\n",
    "MODEL_PATH = \"/storage/graham/music/models/\"\n",
    "\n",
    "GTZAN_SAMPLE_RATE = 22050  # gtzan sample rate\n",
    "FMA_SAMPLE_RATE = GTZAN_SAMPLE_RATE * 2  # fma sample rate\n",
    "DURATION = 30  # measure in seconds"
   ]
  },
  {
   "cell_type": "code",
   "execution_count": 3,
   "id": "b4976226",
   "metadata": {},
   "outputs": [
    {
     "name": "stdout",
     "output_type": "stream",
     "text": [
      "CPU times: user 2min 29s, sys: 12.4 s, total: 2min 42s\n",
      "Wall time: 2min 42s\n"
     ]
    }
   ],
   "source": [
    "%%time\n",
    "genres, X, y = load_mfcc_data(FMA_JSON_PATH)"
   ]
  },
  {
   "cell_type": "code",
   "execution_count": 4,
   "id": "59e7dcf3",
   "metadata": {},
   "outputs": [],
   "source": [
    "# create train/test split\n",
    "X_db = librosa.power_to_db(X)\n",
    "X_train, X_val, X_test, y_train, y_val, y_test = test_train_val_split(X_db, y)"
   ]
  },
  {
   "cell_type": "code",
   "execution_count": 5,
   "id": "0d103fa4",
   "metadata": {},
   "outputs": [],
   "source": [
    "def map_to_integer_interval(old_lo, old_hi, new_lo, new_hi, x):\n",
    "    return np.round(new_lo + (new_hi - new_lo)/(old_hi - old_lo)*(x - old_lo))"
   ]
  },
  {
   "cell_type": "markdown",
   "id": "7892423f",
   "metadata": {},
   "source": [
    "## Resize Data to be compatible with ResNet18"
   ]
  },
  {
   "cell_type": "code",
   "execution_count": 6,
   "id": "7f04db0b",
   "metadata": {},
   "outputs": [
    {
     "name": "stderr",
     "output_type": "stream",
     "text": [
      "2022-05-02 22:38:53.121239: W tensorflow/stream_executor/platform/default/dso_loader.cc:64] Could not load dynamic library 'libcuda.so.1'; dlerror: libcuda.so.1: cannot open shared object file: No such file or directory\n",
      "2022-05-02 22:38:53.121296: W tensorflow/stream_executor/cuda/cuda_driver.cc:269] failed call to cuInit: UNKNOWN ERROR (303)\n",
      "2022-05-02 22:38:53.121317: I tensorflow/stream_executor/cuda/cuda_diagnostics.cc:156] kernel driver does not appear to be running on this host (earhart): /proc/driver/nvidia/version does not exist\n",
      "2022-05-02 22:38:53.121720: I tensorflow/core/platform/cpu_feature_guard.cc:151] This TensorFlow binary is optimized with oneAPI Deep Neural Network Library (oneDNN) to use the following CPU instructions in performance-critical operations:  AVX2 FMA\n",
      "To enable them in other operations, rebuild TensorFlow with the appropriate compiler flags.\n"
     ]
    }
   ],
   "source": [
    "# prep data for CNN / reshape\n",
    "\n",
    "size = 224\n",
    "\n",
    "# convert to grayscale\n",
    "X_train = map_to_integer_interval(np.min(X_db), np.max(X_db), 0., 255., X_train)\n",
    "X_val = map_to_integer_interval(np.min(X_db), np.max(X_db), 0., 255., X_val)\n",
    "X_test = map_to_integer_interval(np.min(X_db), np.max(X_db), 0., 255., X_test)\n",
    "\n",
    "X_train_cnn = X_train[..., np.newaxis]\n",
    "X_val_cnn = X_val[..., np.newaxis]\n",
    "X_test_cnn = X_test[..., np.newaxis]\n",
    "\n",
    "X_train_cnn = tf.image.resize_with_pad(X_train_cnn, target_height=size, target_width=size).numpy()\n",
    "X_val_cnn = tf.image.resize_with_pad(X_val_cnn, target_height=size, target_width=size).numpy()\n",
    "X_test_cnn = tf.image.resize_with_pad(X_test_cnn, target_height=size, target_width=size).numpy()\n",
    "\n",
    "X_train_cnn = tf.image.grayscale_to_rgb(tf.convert_to_tensor(X_train_cnn))\n",
    "X_val_cnn = tf.image.grayscale_to_rgb(tf.convert_to_tensor(X_val_cnn))\n",
    "X_test_cnn = tf.image.grayscale_to_rgb(tf.convert_to_tensor(X_test_cnn))"
   ]
  },
  {
   "cell_type": "markdown",
   "id": "89a42b61",
   "metadata": {},
   "source": [
    "## Load in Base Model"
   ]
  },
  {
   "cell_type": "code",
   "execution_count": 7,
   "id": "0414ecea",
   "metadata": {},
   "outputs": [],
   "source": [
    "base_model = keras.applications.ResNet50(\n",
    "    weights='imagenet',  # Load weights pre-trained on ImageNet.\n",
    "    include_top=False)  # Do not include the ImageNet classifier at the top."
   ]
  },
  {
   "cell_type": "code",
   "execution_count": 8,
   "id": "32c918fb",
   "metadata": {},
   "outputs": [
    {
     "name": "stdout",
     "output_type": "stream",
     "text": [
      "Model: \"ResNet\"\n",
      "_________________________________________________________________\n",
      " Layer (type)                Output Shape              Param #   \n",
      "=================================================================\n",
      " input_2 (InputLayer)        [(None, 224, 224, 3)]     0         \n",
      "                                                                 \n",
      " resnet50 (Functional)       (None, None, None, 2048)  23587712  \n",
      "                                                                 \n",
      " global_average_pooling2d (G  (None, 2048)             0         \n",
      " lobalAveragePooling2D)                                          \n",
      "                                                                 \n",
      " dense (Dense)               (None, 8)                 16392     \n",
      "                                                                 \n",
      "=================================================================\n",
      "Total params: 23,604,104\n",
      "Trainable params: 23,550,984\n",
      "Non-trainable params: 53,120\n",
      "_________________________________________________________________\n"
     ]
    }
   ],
   "source": [
    "inputs = keras.Input(shape=(224, 224, 3))\n",
    "# We make sure that the base_model is running in inference mode here,\n",
    "# by passing `training=False`. This is important for fine-tuning, as you will\n",
    "# learn in a few paragraphs.\n",
    "x = base_model(inputs, training=False)\n",
    "# Convert features of shape `base_model.output_shape[1:]` to vectors\n",
    "x = keras.layers.GlobalAveragePooling2D()(x)\n",
    "# A Dense classifier with a single unit (binary classification)\n",
    "outputs = keras.layers.Dense(len(genres))(x)\n",
    "resnet = keras.Model(inputs, outputs)\n",
    "resnet._name = \"ResNet\"\n",
    "\n",
    "resnet.summary()"
   ]
  },
  {
   "cell_type": "code",
   "execution_count": null,
   "id": "89bb4820",
   "metadata": {},
   "outputs": [
    {
     "name": "stdout",
     "output_type": "stream",
     "text": [
      "Epoch 1/10\n",
      " 167/1152 [===>..........................] - ETA: 47:55 - loss: 7.6743 - accuracy: 0.1319"
     ]
    }
   ],
   "source": [
    "optimiser = keras.optimizers.Adam(learning_rate=0.001)\n",
    "resnet.compile(optimizer=optimiser,\n",
    "              loss='sparse_categorical_crossentropy',\n",
    "              metrics=['accuracy'])\n",
    "\n",
    "MODEL_SAVE_PATH = MODEL_PATH + \"/resnet/\"\n",
    "saveBest, es, lr = setup_callbacks(resnet, MODEL_SAVE_PATH)\n",
    "\n",
    "history = resnet.fit(X_train_cnn, y_train, \n",
    "          epochs=10, \n",
    "          batch_size=32,\n",
    "          callbacks=[saveBest, es, lr], \n",
    "          validation_data=(X_val_cnn, y_val))\n",
    "\n",
    "# plot accuracy/error for training and validation\n",
    "plot_history(history)\n",
    "\n",
    "# evaluate model on test set\n",
    "test_loss, test_acc = resnet.evaluate(X_test_cnn, y_test, verbose=2)\n",
    "print('\\nTest accuracy:', test_acc)"
   ]
  },
  {
   "cell_type": "code",
   "execution_count": 12,
   "id": "d7059ac5",
   "metadata": {},
   "outputs": [
    {
     "data": {
      "image/png": "[encoded data removed]",
      "text/plain": [
       "<Figure size 432x288 with 2 Axes>"
      ]
     },
     "metadata": {
      "needs_background": "light"
     },
     "output_type": "display_data"
    },
    {
     "name": "stdout",
     "output_type": "stream",
     "text": [
      "705/705 - 376s - loss: 7.7079 - accuracy: 0.1257 - 376s/epoch - 533ms/step\n",
      "\n",
      "Test accuracy: 0.12567603588104248\n"
     ]
    }
   ],
   "source": [
    "# plot accuracy/error for training and validation\n",
    "plot_history(history)\n",
    "\n",
    "# evaluate model on test set\n",
    "test_loss, test_acc = resnet.evaluate(X_test_cnn, y_test, verbose=2)\n",
    "print('\\nTest accuracy:', test_acc)"
   ]
  },
  {
   "cell_type": "code",
   "execution_count": null,
   "id": "e7bccaab",
   "metadata": {},
   "outputs": [],
   "source": []
  }
 ],
 "metadata": {
  "kernelspec": {
   "display_name": "music",
   "language": "python",
   "name": "music"
  },
  "language_info": {
   "codemirror_mode": {
    "name": "ipython",
    "version": 3
   },
   "file_extension": ".py",
   "mimetype": "text/x-python",
   "name": "python",
   "nbconvert_exporter": "python",
   "pygments_lexer": "ipython3",
   "version": "3.9.12"
  }
 },
 "nbformat": 4,
 "nbformat_minor": 5
}
