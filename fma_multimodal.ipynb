{
 "cells": [
  {
   "cell_type": "markdown",
   "id": "a7ce1e8a",
   "metadata": {},
   "source": [
    "## Necessary Imports"
   ]
  },
  {
   "cell_type": "code",
   "execution_count": 1,
   "id": "e1a0245c",
   "metadata": {},
   "outputs": [
    {
     "name": "stderr",
     "output_type": "stream",
     "text": [
      "2022-05-01 21:34:52.374195: W tensorflow/stream_executor/platform/default/dso_loader.cc:64] Could not load dynamic library 'libcudart.so.11.0'; dlerror: libcudart.so.11.0: cannot open shared object file: No such file or directory\n",
      "2022-05-01 21:34:52.374238: I tensorflow/stream_executor/cuda/cudart_stub.cc:29] Ignore above cudart dlerror if you do not have a GPU set up on your machine.\n",
      "Intel(R) Extension for Scikit-learn* enabled (https://github.com/intel/scikit-learn-intelex)\n",
      "/storage/graham/miniconda3/envs/music/lib/python3.9/site-packages/xgboost/compat.py:36: FutureWarning: pandas.Int64Index is deprecated and will be removed from pandas in a future version. Use pandas.Index with the appropriate dtype instead.\n",
      "  from pandas import MultiIndex, Int64Index\n",
      "Intel(R) Extension for Scikit-learn* enabled (https://github.com/intel/scikit-learn-intelex)\n"
     ]
    }
   ],
   "source": [
    "%load_ext autoreload\n",
    "%autoreload 2\n",
    "\n",
    "import math\n",
    "import os\n",
    "import sys\n",
    "import json\n",
    "\n",
    "import tensorflow as tf\n",
    "tf.compat.v1.logging.set_verbosity(tf.compat.v1.logging.ERROR)\n",
    "import tensorflow.keras as keras\n",
    "\n",
    "import librosa\n",
    "\n",
    "import numpy as np\n",
    "import seaborn as sns\n",
    "import pandas as pd\n",
    "\n",
    "from sklearnex import patch_sklearn\n",
    "patch_sklearn()\n",
    "from sklearn.model_selection import train_test_split\n",
    "from sklearn.metrics import accuracy_score, classification_report, confusion_matrix, ConfusionMatrixDisplay\n",
    "from sklearn.neighbors import KNeighborsClassifier\n",
    "from sklearn.ensemble import RandomForestClassifier\n",
    "from sklearn.svm import SVC\n",
    "from sklearn.manifold import TSNE\n",
    "from sklearn.decomposition import PCA\n",
    "\n",
    "import matplotlib.pyplot as plt\n",
    "%matplotlib inline\n",
    "\n",
    "from xgboost import XGBClassifier\n",
    "\n",
    "# custom helper functions\n",
    "from utils import *\n",
    "\n",
    "RANDOM_SEED = 0"
   ]
  },
  {
   "cell_type": "markdown",
   "id": "8d3fe9a1",
   "metadata": {},
   "source": [
    "## Load Data & Develop Test/Train Splits"
   ]
  },
  {
   "cell_type": "code",
   "execution_count": 2,
   "id": "bd7f2a68",
   "metadata": {},
   "outputs": [],
   "source": [
    "FMA_JSON_PATH = \"/storage/graham/music/fma_small_data.json\"\n",
    "GTZAN_JSON_PATH = \"/storage/graham/music/gtzan.json\"\n",
    "MULTIMODAL_PATH = \"/storage/graham/music/fma_small_echonest.json\"\n",
    "MODEL_PATH = \"/storage/graham/music/models/\"\n",
    "\n",
    "GTZAN_SAMPLE_RATE = 22050  # gtzan sample rate\n",
    "FMA_SAMPLE_RATE = GTZAN_SAMPLE_RATE * 2  # fma sample rate\n",
    "DURATION = 30  # measure in seconds"
   ]
  },
  {
   "cell_type": "code",
   "execution_count": 3,
   "id": "f8babcb4",
   "metadata": {},
   "outputs": [
    {
     "name": "stdout",
     "output_type": "stream",
     "text": [
      "CPU times: user 29.7 s, sys: 5.03 s, total: 34.7 s\n",
      "Wall time: 37.6 s\n"
     ]
    }
   ],
   "source": [
    "%%time\n",
    "genres, mfcc, features, y = load_multimodal_data(MULTIMODAL_PATH)"
   ]
  },
  {
   "cell_type": "markdown",
   "id": "4f046ace",
   "metadata": {},
   "source": [
    "## Multi-Modal Model"
   ]
  },
  {
   "cell_type": "markdown",
   "id": "4ccbe981",
   "metadata": {},
   "source": [
    "### First: Prepare Dataset"
   ]
  },
  {
   "cell_type": "code",
   "execution_count": 4,
   "id": "2ad33903",
   "metadata": {},
   "outputs": [],
   "source": [
    "TEST_SPLIT = 0.3\n",
    "VALIDATION_SPLIT = 0.3\n",
    "\n",
    "# create train/test/val splits\n",
    "x_train, x_val, x_test, y_train, y_val, y_test = test_train_val_split(features, \n",
    "                                                                      y, \n",
    "                                                                      test_size=TEST_SPLIT, \n",
    "                                                                      val_size=VALIDATION_SPLIT, \n",
    "                                                                      rseed=RANDOM_SEED)\n",
    "\n",
    "mfcc_train, mfcc_val, mfcc_test, _, _, _ = test_train_val_split(mfcc, \n",
    "                                                                  y, \n",
    "                                                                  test_size=TEST_SPLIT, \n",
    "                                                                  val_size=VALIDATION_SPLIT, \n",
    "                                                                  rseed=RANDOM_SEED)\n",
    "\n",
    "# reshape MFCC to be a vector\n",
    "mfcc_train_vec = mfcc_train.reshape(mfcc_train.shape[0], mfcc_train.shape[1]*mfcc_train.shape[2])\n",
    "mfcc_test_vec = mfcc_test.reshape(mfcc_test.shape[0], mfcc_test.shape[1]*mfcc_test.shape[2])\n",
    "\n",
    "# add an axis to input sets\n",
    "mfcc_train = mfcc_train[..., np.newaxis]\n",
    "mfcc_val = mfcc_val[..., np.newaxis]\n",
    "\n",
    "cnn_input_shape = (mfcc_train.shape[1], mfcc_train.shape[2], 1)\n",
    "mlp_input_shape = x_train.shape[1]"
   ]
  },
  {
   "cell_type": "markdown",
   "id": "456d60a1",
   "metadata": {},
   "source": [
    "### Second: Build and Train Model"
   ]
  },
  {
   "cell_type": "code",
   "execution_count": 5,
   "id": "da8b0672",
   "metadata": {
    "scrolled": true
   },
   "outputs": [
    {
     "name": "stdout",
     "output_type": "stream",
     "text": [
      "Model: \"model\"\n",
      "__________________________________________________________________________________________________\n",
      " Layer (type)                   Output Shape         Param #     Connected to                     \n",
      "==================================================================================================\n",
      " conv2d_input (InputLayer)      [(None, 259, 13, 1)  0           []                               \n",
      "                                ]                                                                 \n",
      "                                                                                                  \n",
      " conv2d (Conv2D)                (None, 257, 11, 32)  320         ['conv2d_input[0][0]']           \n",
      "                                                                                                  \n",
      " max_pooling2d (MaxPooling2D)   (None, 129, 6, 32)   0           ['conv2d[0][0]']                 \n",
      "                                                                                                  \n",
      " batch_normalization (BatchNorm  (None, 129, 6, 32)  128         ['max_pooling2d[0][0]']          \n",
      " alization)                                                                                       \n",
      "                                                                                                  \n",
      " conv2d_1 (Conv2D)              (None, 127, 4, 32)   9248        ['batch_normalization[0][0]']    \n",
      "                                                                                                  \n",
      " max_pooling2d_1 (MaxPooling2D)  (None, 64, 2, 32)   0           ['conv2d_1[0][0]']               \n",
      "                                                                                                  \n",
      " input_1 (InputLayer)           [(None, 8)]          0           []                               \n",
      "                                                                                                  \n",
      " batch_normalization_1 (BatchNo  (None, 64, 2, 32)   128         ['max_pooling2d_1[0][0]']        \n",
      " rmalization)                                                                                     \n",
      "                                                                                                  \n",
      " dense (Dense)                  (None, 64)           576         ['input_1[0][0]']                \n",
      "                                                                                                  \n",
      " conv2d_2 (Conv2D)              (None, 63, 1, 32)    4128        ['batch_normalization_1[0][0]']  \n",
      "                                                                                                  \n",
      " dropout (Dropout)              (None, 64)           0           ['dense[0][0]']                  \n",
      "                                                                                                  \n",
      " max_pooling2d_2 (MaxPooling2D)  (None, 32, 1, 32)   0           ['conv2d_2[0][0]']               \n",
      "                                                                                                  \n",
      " dense_1 (Dense)                (None, 32)           2080        ['dropout[0][0]']                \n",
      "                                                                                                  \n",
      " batch_normalization_2 (BatchNo  (None, 32, 1, 32)   128         ['max_pooling2d_2[0][0]']        \n",
      " rmalization)                                                                                     \n",
      "                                                                                                  \n",
      " dropout_1 (Dropout)            (None, 32)           0           ['dense_1[0][0]']                \n",
      "                                                                                                  \n",
      " flatten (Flatten)              (None, 1024)         0           ['batch_normalization_2[0][0]']  \n",
      "                                                                                                  \n",
      " dense_2 (Dense)                (None, 16)           528         ['dropout_1[0][0]']              \n",
      "                                                                                                  \n",
      " dense_3 (Dense)                (None, 32)           32800       ['flatten[0][0]']                \n",
      "                                                                                                  \n",
      " dropout_2 (Dropout)            (None, 16)           0           ['dense_2[0][0]']                \n",
      "                                                                                                  \n",
      " dropout_3 (Dropout)            (None, 32)           0           ['dense_3[0][0]']                \n",
      "                                                                                                  \n",
      " concatenate (Concatenate)      (None, 48)           0           ['dropout_2[0][0]',              \n",
      "                                                                  'dropout_3[0][0]']              \n",
      "                                                                                                  \n",
      " batch_normalization_3 (BatchNo  (None, 48)          192         ['concatenate[0][0]']            \n",
      " rmalization)                                                                                     \n",
      "                                                                                                  \n",
      " dense_4 (Dense)                (None, 32)           1568        ['batch_normalization_3[0][0]']  \n",
      "                                                                                                  \n",
      " batch_normalization_4 (BatchNo  (None, 32)          128         ['dense_4[0][0]']                \n",
      " rmalization)                                                                                     \n",
      "                                                                                                  \n",
      " dropout_4 (Dropout)            (None, 32)           0           ['batch_normalization_4[0][0]']  \n",
      "                                                                                                  \n",
      " dense_5 (Dense)                (None, 16)           528         ['dropout_4[0][0]']              \n",
      "                                                                                                  \n",
      " batch_normalization_5 (BatchNo  (None, 16)          64          ['dense_5[0][0]']                \n",
      " rmalization)                                                                                     \n",
      "                                                                                                  \n",
      " dropout_5 (Dropout)            (None, 16)           0           ['batch_normalization_5[0][0]']  \n",
      "                                                                                                  \n",
      " dense_6 (Dense)                (None, 8)            136         ['dropout_5[0][0]']              \n",
      "                                                                                                  \n",
      "==================================================================================================\n",
      "Total params: 52,680\n",
      "Trainable params: 52,296\n",
      "Non-trainable params: 384\n",
      "__________________________________________________________________________________________________\n"
     ]
    },
    {
     "name": "stderr",
     "output_type": "stream",
     "text": [
      "2022-05-01 21:35:33.998265: W tensorflow/stream_executor/platform/default/dso_loader.cc:64] Could not load dynamic library 'libcuda.so.1'; dlerror: libcuda.so.1: cannot open shared object file: No such file or directory\n",
      "2022-05-01 21:35:33.998305: W tensorflow/stream_executor/cuda/cuda_driver.cc:269] failed call to cuInit: UNKNOWN ERROR (303)\n",
      "2022-05-01 21:35:33.998397: I tensorflow/stream_executor/cuda/cuda_diagnostics.cc:156] kernel driver does not appear to be running on this host (earhart): /proc/driver/nvidia/version does not exist\n",
      "2022-05-01 21:35:33.999235: I tensorflow/core/platform/cpu_feature_guard.cc:151] This TensorFlow binary is optimized with oneAPI Deep Neural Network Library (oneDNN) to use the following CPU instructions in performance-critical operations:  AVX2 FMA\n",
      "To enable them in other operations, rebuild TensorFlow with the appropriate compiler flags.\n"
     ]
    }
   ],
   "source": [
    "mlp = build_multimodal_mlp(mlp_input_shape)\n",
    "cnn = build_multimodal_cnn(cnn_input_shape)\n",
    "\n",
    "x = keras.layers.Concatenate()([mlp.output, cnn.output])\n",
    "\n",
    "x = keras.layers.BatchNormalization()(x)\n",
    "x = keras.layers.Dense(32, activation=\"relu\")(x)\n",
    "x = keras.layers.BatchNormalization()(x)\n",
    "x = keras.layers.Dropout(0.5)(x)\n",
    "\n",
    "x = keras.layers.Dense(16, activation=\"relu\")(x)\n",
    "x = keras.layers.BatchNormalization()(x)\n",
    "x = keras.layers.Dropout(0.25)(x)\n",
    "\n",
    "x = keras.layers.Dense(len(genres), activation=\"softmax\")(x)\n",
    "\n",
    "model = keras.Model(inputs=[mlp.input, cnn.input], outputs=x)\n",
    "\n",
    "OPTIMIZER = keras.optimizers.Adam(learning_rate=0.001)\n",
    "model.compile(loss='sparse_categorical_crossentropy', \n",
    "              metrics=['accuracy'],\n",
    "              optimizer=OPTIMIZER)\n",
    "\n",
    "model.summary()"
   ]
  },
  {
   "cell_type": "code",
   "execution_count": 6,
   "id": "2dd760df",
   "metadata": {
    "scrolled": true
   },
   "outputs": [
    {
     "name": "stdout",
     "output_type": "stream",
     "text": [
      "Epoch 1/30\n",
      "186/188 [============================>.] - ETA: 0s - loss: 2.2113 - accuracy: 0.2456\n",
      "Epoch 1: val_loss improved from inf to 2.10294, saving model to /storage/graham/music/models//multimodal/\n"
     ]
    },
    {
     "name": "stderr",
     "output_type": "stream",
     "text": [
      "2022-05-01 21:35:40.603868: W tensorflow/python/util/util.cc:368] Sets are not currently considered sequences, but this may change in the future, so consider avoiding using them.\n"
     ]
    },
    {
     "name": "stdout",
     "output_type": "stream",
     "text": [
      "188/188 [==============================] - 7s 33ms/step - loss: 2.2096 - accuracy: 0.2464 - val_loss: 2.1029 - val_accuracy: 0.3524 - lr: 0.0010\n",
      "Epoch 2/30\n",
      "187/188 [============================>.] - ETA: 0s - loss: 1.8329 - accuracy: 0.3573\n",
      "Epoch 2: val_loss improved from 2.10294 to 1.58823, saving model to /storage/graham/music/models//multimodal/\n",
      "188/188 [==============================] - 7s 36ms/step - loss: 1.8322 - accuracy: 0.3576 - val_loss: 1.5882 - val_accuracy: 0.4521 - lr: 0.0010\n",
      "Epoch 3/30\n",
      "187/188 [============================>.] - ETA: 0s - loss: 1.7142 - accuracy: 0.3930\n",
      "Epoch 3: val_loss did not improve from 1.58823\n",
      "188/188 [==============================] - 5s 25ms/step - loss: 1.7144 - accuracy: 0.3930 - val_loss: 1.6944 - val_accuracy: 0.4151 - lr: 0.0010\n",
      "Epoch 4/30\n",
      "185/188 [============================>.] - ETA: 0s - loss: 1.6512 - accuracy: 0.4164\n",
      "Epoch 4: val_loss did not improve from 1.58823\n",
      "188/188 [==============================] - 5s 24ms/step - loss: 1.6525 - accuracy: 0.4150 - val_loss: 1.6748 - val_accuracy: 0.3723 - lr: 0.0010\n",
      "Epoch 5/30\n",
      "187/188 [============================>.] - ETA: 0s - loss: 1.6059 - accuracy: 0.4340\n",
      "Epoch 5: val_loss improved from 1.58823 to 1.45952, saving model to /storage/graham/music/models//multimodal/\n",
      "188/188 [==============================] - 7s 40ms/step - loss: 1.6063 - accuracy: 0.4339 - val_loss: 1.4595 - val_accuracy: 0.4786 - lr: 0.0010\n",
      "Epoch 6/30\n",
      "186/188 [============================>.] - ETA: 0s - loss: 1.5585 - accuracy: 0.4540\n",
      "Epoch 6: val_loss improved from 1.45952 to 1.43630, saving model to /storage/graham/music/models//multimodal/\n",
      "188/188 [==============================] - 7s 40ms/step - loss: 1.5572 - accuracy: 0.4549 - val_loss: 1.4363 - val_accuracy: 0.4934 - lr: 0.0010\n",
      "Epoch 7/30\n",
      "188/188 [==============================] - ETA: 0s - loss: 1.5161 - accuracy: 0.4725\n",
      "Epoch 7: val_loss did not improve from 1.43630\n",
      "188/188 [==============================] - 5s 27ms/step - loss: 1.5161 - accuracy: 0.4725 - val_loss: 1.7586 - val_accuracy: 0.3832 - lr: 0.0010\n",
      "Epoch 8/30\n",
      "186/188 [============================>.] - ETA: 0s - loss: 1.4808 - accuracy: 0.4877\n",
      "Epoch 8: val_loss improved from 1.43630 to 1.42508, saving model to /storage/graham/music/models//multimodal/\n",
      "188/188 [==============================] - 7s 39ms/step - loss: 1.4794 - accuracy: 0.4881 - val_loss: 1.4251 - val_accuracy: 0.5047 - lr: 0.0010\n",
      "Epoch 9/30\n",
      "187/188 [============================>.] - ETA: 0s - loss: 1.4345 - accuracy: 0.5092\n",
      "Epoch 9: val_loss improved from 1.42508 to 1.40188, saving model to /storage/graham/music/models//multimodal/\n",
      "188/188 [==============================] - 8s 41ms/step - loss: 1.4339 - accuracy: 0.5095 - val_loss: 1.4019 - val_accuracy: 0.5238 - lr: 0.0010\n",
      "Epoch 10/30\n",
      "186/188 [============================>.] - ETA: 0s - loss: 1.4218 - accuracy: 0.5131\n",
      "Epoch 10: val_loss improved from 1.40188 to 1.36115, saving model to /storage/graham/music/models//multimodal/\n",
      "188/188 [==============================] - 8s 43ms/step - loss: 1.4240 - accuracy: 0.5125 - val_loss: 1.3611 - val_accuracy: 0.5273 - lr: 0.0010\n",
      "Epoch 11/30\n",
      "188/188 [==============================] - ETA: 0s - loss: 1.3892 - accuracy: 0.5267\n",
      "Epoch 11: val_loss improved from 1.36115 to 1.29625, saving model to /storage/graham/music/models//multimodal/\n",
      "188/188 [==============================] - 9s 49ms/step - loss: 1.3892 - accuracy: 0.5267 - val_loss: 1.2963 - val_accuracy: 0.5732 - lr: 0.0010\n",
      "Epoch 12/30\n",
      "187/188 [============================>.] - ETA: 0s - loss: 1.3391 - accuracy: 0.5438\n",
      "Epoch 12: val_loss did not improve from 1.29625\n",
      "188/188 [==============================] - 6s 33ms/step - loss: 1.3387 - accuracy: 0.5439 - val_loss: 1.6041 - val_accuracy: 0.4949 - lr: 0.0010\n",
      "Epoch 13/30\n",
      "185/188 [============================>.] - ETA: 0s - loss: 1.3053 - accuracy: 0.5640\n",
      "Epoch 13: val_loss did not improve from 1.29625\n",
      "188/188 [==============================] - 5s 28ms/step - loss: 1.3034 - accuracy: 0.5656 - val_loss: 1.6881 - val_accuracy: 0.4638 - lr: 0.0010\n",
      "Epoch 14/30\n",
      "188/188 [==============================] - ETA: 0s - loss: 1.2858 - accuracy: 0.5765\n",
      "Epoch 14: val_loss improved from 1.29625 to 1.26125, saving model to /storage/graham/music/models//multimodal/\n",
      "188/188 [==============================] - 6s 33ms/step - loss: 1.2858 - accuracy: 0.5765 - val_loss: 1.2613 - val_accuracy: 0.5814 - lr: 0.0010\n",
      "Epoch 15/30\n",
      "188/188 [==============================] - ETA: 0s - loss: 1.2498 - accuracy: 0.5861\n",
      "Epoch 15: val_loss did not improve from 1.26125\n",
      "188/188 [==============================] - 5s 26ms/step - loss: 1.2498 - accuracy: 0.5861 - val_loss: 1.3105 - val_accuracy: 0.5670 - lr: 0.0010\n",
      "Epoch 16/30\n",
      "188/188 [==============================] - ETA: 0s - loss: 1.2417 - accuracy: 0.5905\n",
      "Epoch 16: val_loss did not improve from 1.26125\n",
      "188/188 [==============================] - 7s 40ms/step - loss: 1.2417 - accuracy: 0.5905 - val_loss: 1.2707 - val_accuracy: 0.5787 - lr: 0.0010\n",
      "Epoch 17/30\n",
      "187/188 [============================>.] - ETA: 0s - loss: 1.1990 - accuracy: 0.6056\n",
      "Epoch 17: val_loss did not improve from 1.26125\n",
      "188/188 [==============================] - 7s 39ms/step - loss: 1.1991 - accuracy: 0.6057 - val_loss: 1.3729 - val_accuracy: 0.5487 - lr: 0.0010\n",
      "Epoch 18/30\n",
      "187/188 [============================>.] - ETA: 0s - loss: 1.1733 - accuracy: 0.6205\n",
      "Epoch 18: val_loss did not improve from 1.26125\n",
      "188/188 [==============================] - 8s 45ms/step - loss: 1.1741 - accuracy: 0.6204 - val_loss: 1.3641 - val_accuracy: 0.5452 - lr: 0.0010\n",
      "Epoch 19/30\n",
      "187/188 [============================>.] - ETA: 0s - loss: 1.1514 - accuracy: 0.6387\n",
      "Epoch 19: val_loss did not improve from 1.26125\n",
      "188/188 [==============================] - 9s 47ms/step - loss: 1.1511 - accuracy: 0.6389 - val_loss: 1.3642 - val_accuracy: 0.5498 - lr: 0.0010\n",
      "Epoch 20/30\n",
      "188/188 [==============================] - ETA: 0s - loss: 1.1547 - accuracy: 0.6284\n",
      "Epoch 20: val_loss improved from 1.26125 to 1.20393, saving model to /storage/graham/music/models//multimodal/\n",
      "188/188 [==============================] - 18s 94ms/step - loss: 1.1547 - accuracy: 0.6284 - val_loss: 1.2039 - val_accuracy: 0.5911 - lr: 0.0010\n",
      "Epoch 21/30\n",
      "187/188 [============================>.] - ETA: 0s - loss: 1.1158 - accuracy: 0.6439\n",
      "Epoch 21: val_loss did not improve from 1.20393\n",
      "188/188 [==============================] - 7s 35ms/step - loss: 1.1169 - accuracy: 0.6436 - val_loss: 1.3008 - val_accuracy: 0.5627 - lr: 0.0010\n",
      "Epoch 22/30\n",
      "185/188 [============================>.] - ETA: 0s - loss: 1.1032 - accuracy: 0.6465\n",
      "Epoch 22: val_loss did not improve from 1.20393\n",
      "188/188 [==============================] - 4s 24ms/step - loss: 1.1035 - accuracy: 0.6472 - val_loss: 1.2690 - val_accuracy: 0.5829 - lr: 0.0010\n",
      "Epoch 23/30\n",
      "188/188 [==============================] - ETA: 0s - loss: 1.0820 - accuracy: 0.6569\n",
      "Epoch 23: val_loss did not improve from 1.20393\n",
      "188/188 [==============================] - 4s 22ms/step - loss: 1.0820 - accuracy: 0.6569 - val_loss: 1.3243 - val_accuracy: 0.5794 - lr: 0.0010\n",
      "Epoch 24/30\n",
      "187/188 [============================>.] - ETA: 0s - loss: 1.0444 - accuracy: 0.6701\n",
      "Epoch 24: val_loss did not improve from 1.20393\n",
      "188/188 [==============================] - 4s 23ms/step - loss: 1.0450 - accuracy: 0.6698 - val_loss: 1.2557 - val_accuracy: 0.6012 - lr: 0.0010\n",
      "Epoch 25/30\n",
      "187/188 [============================>.] - ETA: 0s - loss: 1.0330 - accuracy: 0.6725\n",
      "Epoch 25: val_loss did not improve from 1.20393\n",
      "188/188 [==============================] - 4s 23ms/step - loss: 1.0332 - accuracy: 0.6723 - val_loss: 1.2478 - val_accuracy: 0.6079 - lr: 0.0010\n",
      "Epoch 26/30\n",
      "187/188 [============================>.] - ETA: 0s - loss: 1.0462 - accuracy: 0.6623\n",
      "Epoch 26: val_loss improved from 1.20393 to 1.16975, saving model to /storage/graham/music/models//multimodal/\n",
      "188/188 [==============================] - 6s 34ms/step - loss: 1.0459 - accuracy: 0.6623 - val_loss: 1.1698 - val_accuracy: 0.6262 - lr: 0.0010\n",
      "Epoch 27/30\n",
      "187/188 [============================>.] - ETA: 0s - loss: 0.9928 - accuracy: 0.6862\n",
      "Epoch 27: val_loss did not improve from 1.16975\n",
      "188/188 [==============================] - 4s 23ms/step - loss: 0.9941 - accuracy: 0.6861 - val_loss: 1.3855 - val_accuracy: 0.5565 - lr: 0.0010\n"
     ]
    },
    {
     "name": "stdout",
     "output_type": "stream",
     "text": [
      "Epoch 28/30\n",
      "188/188 [==============================] - ETA: 0s - loss: 1.0173 - accuracy: 0.6811\n",
      "Epoch 28: val_loss did not improve from 1.16975\n",
      "188/188 [==============================] - 5s 26ms/step - loss: 1.0173 - accuracy: 0.6811 - val_loss: 1.3422 - val_accuracy: 0.5678 - lr: 0.0010\n",
      "Epoch 29/30\n",
      "187/188 [============================>.] - ETA: 0s - loss: 0.9607 - accuracy: 0.7077\n",
      "Epoch 29: val_loss did not improve from 1.16975\n",
      "188/188 [==============================] - 5s 27ms/step - loss: 0.9616 - accuracy: 0.7077 - val_loss: 1.2164 - val_accuracy: 0.6044 - lr: 0.0010\n",
      "Epoch 30/30\n",
      "187/188 [============================>.] - ETA: 0s - loss: 0.9605 - accuracy: 0.7035\n",
      "Epoch 30: val_loss did not improve from 1.16975\n",
      "188/188 [==============================] - 5s 27ms/step - loss: 0.9600 - accuracy: 0.7038 - val_loss: 1.2493 - val_accuracy: 0.5833 - lr: 0.0010\n"
     ]
    },
    {
     "data": {
      "image/png": "[encoded data removed]",
      "text/plain": [
       "<Figure size 432x288 with 2 Axes>"
      ]
     },
     "metadata": {
      "needs_background": "light"
     },
     "output_type": "display_data"
    },
    {
     "name": "stdout",
     "output_type": "stream",
     "text": [
      "115/115 - 1s - loss: 1.2248 - accuracy: 0.5805 - 923ms/epoch - 8ms/step\n",
      "\n",
      "Test accuracy: 0.5805396437644958\n"
     ]
    }
   ],
   "source": [
    "# get callbacks\n",
    "MODEL_SAVE_PATH = MODEL_PATH + \"/multimodal/\"\n",
    "saveBest, es, lr = setup_callbacks(model, MODEL_SAVE_PATH)\n",
    "\n",
    "# train model\n",
    "history = model.fit([x_train, mfcc_train], y_train, \n",
    "                    validation_data=([x_val, mfcc_val], y_val), \n",
    "                    batch_size=32,\n",
    "                    epochs=30,\n",
    "                    callbacks = [saveBest, es, lr])\n",
    "\n",
    "# plot accuracy/error for training and validation\n",
    "plot_history(history)\n",
    "\n",
    "# evaluate model on test set\n",
    "test_loss, test_acc = model.evaluate([x_test, mfcc_test], y_test, verbose=2)\n",
    "print('\\nTest accuracy:', test_acc)"
   ]
  },
  {
   "cell_type": "code",
   "execution_count": null,
   "id": "b38439b0",
   "metadata": {},
   "outputs": [],
   "source": []
  }
 ],
 "metadata": {
  "kernelspec": {
   "display_name": "music",
   "language": "python",
   "name": "music"
  },
  "language_info": {
   "codemirror_mode": {
    "name": "ipython",
    "version": 3
   },
   "file_extension": ".py",
   "mimetype": "text/x-python",
   "name": "python",
   "nbconvert_exporter": "python",
   "pygments_lexer": "ipython3",
   "version": "3.9.12"
  }
 },
 "nbformat": 4,
 "nbformat_minor": 5
}
