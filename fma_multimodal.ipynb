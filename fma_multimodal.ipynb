{
 "cells": [
  {
   "cell_type": "markdown",
   "id": "e2af4626",
   "metadata": {},
   "source": [
    "## Necessary Imports"
   ]
  },
  {
   "cell_type": "code",
   "execution_count": 1,
   "id": "f99ed6ee",
   "metadata": {},
   "outputs": [
    {
     "name": "stderr",
     "output_type": "stream",
     "text": [
      "2022-04-27 13:19:56.546643: W tensorflow/stream_executor/platform/default/dso_loader.cc:64] Could not load dynamic library 'libcudart.so.11.0'; dlerror: libcudart.so.11.0: cannot open shared object file: No such file or directory\n",
      "2022-04-27 13:19:56.546681: I tensorflow/stream_executor/cuda/cudart_stub.cc:29] Ignore above cudart dlerror if you do not have a GPU set up on your machine.\n",
      "Intel(R) Extension for Scikit-learn* enabled (https://github.com/intel/scikit-learn-intelex)\n",
      "/storage/graham/miniconda3/envs/music/lib/python3.9/site-packages/xgboost/compat.py:36: FutureWarning: pandas.Int64Index is deprecated and will be removed from pandas in a future version. Use pandas.Index with the appropriate dtype instead.\n",
      "  from pandas import MultiIndex, Int64Index\n"
     ]
    }
   ],
   "source": [
    "import math\n",
    "import os\n",
    "import json\n",
    "\n",
    "import tensorflow as tf\n",
    "import tensorflow.keras as keras\n",
    "\n",
    "import librosa\n",
    "\n",
    "import numpy as np\n",
    "import seaborn as sns\n",
    "import pandas as pd\n",
    "\n",
    "from sklearnex import patch_sklearn\n",
    "patch_sklearn()\n",
    "from sklearn.model_selection import train_test_split\n",
    "from sklearn.metrics import accuracy_score, classification_report, confusion_matrix, ConfusionMatrixDisplay\n",
    "from sklearn.neighbors import KNeighborsClassifier\n",
    "from sklearn.tree import DecisionTreeClassifier\n",
    "from sklearn.svm import SVC\n",
    "from sklearn.manifold import TSNE\n",
    "\n",
    "import matplotlib.pyplot as plt\n",
    "%matplotlib inline\n",
    "\n",
    "from xgboost import XGBClassifier\n",
    "\n",
    "RANDOM_SEED = 0"
   ]
  },
  {
   "cell_type": "markdown",
   "id": "93350808",
   "metadata": {},
   "source": [
    "## Helper Function Definitions"
   ]
  },
  {
   "cell_type": "code",
   "execution_count": 2,
   "id": "6e26851d",
   "metadata": {},
   "outputs": [],
   "source": [
    "def print_report(y_test, y_pred):\n",
    "  print(\"Accuracy Score is:\\t {0:.3f}\".format(accuracy_score(y_test, y_pred)))\n",
    "  print(classification_report(y_test, y_pred))\n",
    "  print(confusion_matrix(y_test, y_pred))"
   ]
  },
  {
   "cell_type": "code",
   "execution_count": 3,
   "id": "658b5ffd",
   "metadata": {},
   "outputs": [],
   "source": [
    "def load_data(data_path):\n",
    "    \n",
    "    with open(data_path,\"r\") as fp:\n",
    "        data = json.load(fp)\n",
    "    \n",
    "    genres = data['mapping']\n",
    "    mfcc = np.array(data['mfcc'])\n",
    "    features = np.array(data['features'])\n",
    "    y = np.array(data[\"labels\"])\n",
    "    \n",
    "    return genres, mfcc, features, y"
   ]
  },
  {
   "cell_type": "code",
   "execution_count": 4,
   "id": "2733d452",
   "metadata": {},
   "outputs": [],
   "source": [
    "def plot_history(history):\n",
    "    \n",
    "    fig, axs = plt.subplots(2)\n",
    "\n",
    "    # create accuracy subplot\n",
    "    axs[0].plot(history.history[\"accuracy\"], label=\"train accuracy\")\n",
    "    axs[0].plot(history.history[\"val_accuracy\"], label=\"test accuracy\")\n",
    "    axs[0].set_ylabel(\"Accuracy\")\n",
    "    axs[0].legend(loc=\"lower right\")\n",
    "    axs[0].set_title(\"Accuracy eval\")\n",
    "\n",
    "    # create error subplot\n",
    "    axs[1].plot(history.history[\"loss\"], label=\"train error\")\n",
    "    axs[1].plot(history.history[\"val_loss\"], label=\"test error\")\n",
    "    axs[1].set_ylabel(\"Error\")\n",
    "    axs[1].set_xlabel(\"Epoch\")\n",
    "    axs[1].legend(loc=\"upper right\")\n",
    "    axs[1].set_title(\"Error eval\")\n",
    "\n",
    "    plt.show()"
   ]
  },
  {
   "cell_type": "code",
   "execution_count": 5,
   "id": "2198f99e",
   "metadata": {},
   "outputs": [],
   "source": [
    "def prepare_datasets(X_train, y_train, validation_size):\n",
    "    ##### CNN Specific Dataloader #####\n",
    "    \n",
    "    # create train, validation and test split\n",
    "    X_train, X_val, y_train, y_val = train_test_split(X_train, y_train, test_size=validation_size)\n",
    "\n",
    "    # add an axis to input sets\n",
    "    X_train = X_train[..., np.newaxis]\n",
    "    X_val = X_val[..., np.newaxis]\n",
    "\n",
    "    return X_train, X_val, y_train, y_val"
   ]
  },
  {
   "cell_type": "code",
   "execution_count": 6,
   "id": "1dff093e",
   "metadata": {},
   "outputs": [],
   "source": [
    "def replace_intermediate_layer_in_keras(model, layer_id, new_layer):\n",
    "    \n",
    "    layers = [l for l in model.layers]\n",
    "\n",
    "    x = layers[0].output\n",
    "    for i in range(1, len(layers)):\n",
    "        if i == layer_id:\n",
    "            x = new_layer(x)\n",
    "        else:\n",
    "            x = layers[i](x)\n",
    "\n",
    "    new_model = keras.models.Model(layers[0].input, x)\n",
    "    return new_model"
   ]
  },
  {
   "cell_type": "code",
   "execution_count": 7,
   "id": "4dc3f212",
   "metadata": {},
   "outputs": [],
   "source": [
    "def predict_genre(model, song_mfcc, y_true):\n",
    "    \"\"\"\n",
    "    Given a song, predict it's label (using a keras model)\n",
    "    \"\"\"\n",
    "\n",
    "    # add a dimension to input data for sample - model.predict() expects a 4d array in this case\n",
    "    song_mfcc = song_mfcc[np.newaxis, ...] # array shape (1, 130, 13, 1)\n",
    "\n",
    "    # perform prediction\n",
    "    prediction = model.predict(song_mfcc)\n",
    "\n",
    "    # get index with max value\n",
    "    y_pred = np.argmax(prediction, axis=1)\n",
    "\n",
    "    print(\"Target: {}, Predicted label: {}\".format(y_true, y_pred))"
   ]
  },
  {
   "cell_type": "code",
   "execution_count": 18,
   "id": "f45e9831",
   "metadata": {},
   "outputs": [],
   "source": [
    "def build_multimodal_mlp(INPUT_SHAPE):\n",
    "#     model = keras.Sequential([\n",
    "\n",
    "#         # input layer\n",
    "#         keras.layers.Dense(INPUT_SHAPE, activation='relu', kernel_regularizer=keras.regularizers.l2(0.001)),\n",
    "#         keras.layers.Dropout(0.3),\n",
    "\n",
    "#         # 1st dense layer\n",
    "#         keras.layers.Dense(256, activation='relu', kernel_regularizer=keras.regularizers.l2(0.001)),\n",
    "#         keras.layers.Dropout(0.3),\n",
    "\n",
    "#         # 2nd dense layer\n",
    "#         keras.layers.Dense(64, activation='relu', kernel_regularizer=keras.regularizers.l2(0.001)),\n",
    "#         keras.layers.Dropout(0.3),\n",
    "\n",
    "#     ])\n",
    "\n",
    "    model = keras.Sequential()\n",
    "    \n",
    "    # input layer\n",
    "    model.add(keras.layers.InputLayer(input_shape=INPUT_SHAPE))\n",
    "    \n",
    "    # 1st dense layer\n",
    "    model.add(keras.layers.Dense(512, activation='relu', kernel_regularizer=keras.regularizers.l2(0.001)))\n",
    "    model.add(keras.layers.Dropout(0.3))\n",
    "    \n",
    "    # 2nd dense layer\n",
    "    model.add(keras.layers.Dense(256, activation='relu', kernel_regularizer=keras.regularizers.l2(0.001)))\n",
    "    model.add(keras.layers.Dropout(0.3))\n",
    "    \n",
    "    # 3rd dense layer\n",
    "    model.add(keras.layers.Dense(64, activation='relu', kernel_regularizer=keras.regularizers.l2(0.001)))\n",
    "    model.add(keras.layers.Dropout(0.3))\n",
    "    \n",
    "    return model"
   ]
  },
  {
   "cell_type": "code",
   "execution_count": 9,
   "id": "27d9bcd9",
   "metadata": {},
   "outputs": [],
   "source": [
    "def build_multimodal_cnn(INPUT_SHAPE):\n",
    "\n",
    "    # build network topology\n",
    "    model = keras.Sequential()\n",
    "\n",
    "    # 1st conv layer\n",
    "    model.add(keras.layers.Conv2D(32, (3, 3), activation='relu', input_shape=INPUT_SHAPE))\n",
    "    model.add(keras.layers.MaxPooling2D((3, 3), strides=(2, 2), padding='same'))\n",
    "    model.add(keras.layers.BatchNormalization())\n",
    "\n",
    "    # 2nd conv layer\n",
    "    model.add(keras.layers.Conv2D(32, (3, 3), activation='relu'))\n",
    "    model.add(keras.layers.MaxPooling2D((3, 3), strides=(2, 2), padding='same'))\n",
    "    model.add(keras.layers.BatchNormalization())\n",
    "\n",
    "    # 3rd conv layer\n",
    "    model.add(keras.layers.Conv2D(32, (2, 2), activation='relu'))\n",
    "    model.add(keras.layers.MaxPooling2D((2, 2), strides=(2, 2), padding='same'))\n",
    "    model.add(keras.layers.BatchNormalization())\n",
    "\n",
    "\n",
    "    # flatten output and feed it into dense layer\n",
    "    model.add(keras.layers.Flatten())\n",
    "    model.add(keras.layers.Dense(64, activation='relu'))\n",
    "    model.add(keras.layers.Dropout(0.3))\n",
    "\n",
    "    return model"
   ]
  },
  {
   "cell_type": "markdown",
   "id": "b4cb0139",
   "metadata": {},
   "source": [
    "## Load Data & Develop Test/Train Splits"
   ]
  },
  {
   "cell_type": "code",
   "execution_count": 10,
   "id": "3f85885f",
   "metadata": {},
   "outputs": [],
   "source": [
    "FMA_JSON_PATH = \"/storage/graham/music/fma_small_data.json\"\n",
    "GTZAN_JSON_PATH = \"/storage/graham/music/gtzan.json\"\n",
    "MULTIMODAL_PATH = \"/storage/graham/music/fma_small_echonest.json\"\n",
    "MODEL_PATH = \"/storage/graham/music/models/\"\n",
    "\n",
    "GTZAN_SAMPLE_RATE = 22050  # gtzan sample rate\n",
    "FMA_SAMPLE_RATE = GTZAN_SAMPLE_RATE * 2  # fma sample rate\n",
    "DURATION = 30  # measure in seconds"
   ]
  },
  {
   "cell_type": "code",
   "execution_count": 11,
   "id": "b5dde8eb",
   "metadata": {},
   "outputs": [
    {
     "name": "stdout",
     "output_type": "stream",
     "text": [
      "CPU times: user 25.3 s, sys: 1.97 s, total: 27.3 s\n",
      "Wall time: 27.3 s\n"
     ]
    }
   ],
   "source": [
    "%%time\n",
    "genres, mfcc, features, y = load_data(MULTIMODAL_PATH)"
   ]
  },
  {
   "cell_type": "code",
   "execution_count": 13,
   "id": "1bca43f4",
   "metadata": {},
   "outputs": [],
   "source": [
    "SPLIT = 0.3\n",
    "\n",
    "# create train/test split\n",
    "mfcc_train, mfcc_test, _, _  = train_test_split(mfcc, y, test_size=SPLIT, random_state=RANDOM_SEED)\n",
    "x_train, x_test, y_train, y_test = train_test_split(features, y, test_size=SPLIT, random_state=RANDOM_SEED)\n",
    "\n",
    "# reshape MFCC to be a vector\n",
    "mfcc_train_vec = mfcc_train.reshape(mfcc_train.shape[0], mfcc_train.shape[1]*mfcc_train.shape[2])\n",
    "mfcc_test_vec = mfcc_test.reshape(mfcc_test.shape[0], mfcc_test.shape[1]*mfcc_test.shape[2])\n",
    "\n",
    "mfcc_vec = mfcc.reshape(mfcc.shape[0], mfcc.shape[1]*mfcc.shape[2])"
   ]
  },
  {
   "cell_type": "markdown",
   "id": "719304f2",
   "metadata": {},
   "source": [
    "## Multi-Modal Model"
   ]
  },
  {
   "cell_type": "code",
   "execution_count": 14,
   "id": "d1801d0e",
   "metadata": {
    "scrolled": true
   },
   "outputs": [],
   "source": [
    "VALIDATION_SPLIT = 0.3\n",
    "\n",
    "# create train, validation andtest split\n",
    "mfcc_train, mfcc_val, _, _  = train_test_split(mfcc_train, y_train, test_size=VALIDATION_SPLIT, random_state=RANDOM_SEED)\n",
    "x_train, x_val, y_train, y_val = train_test_split(x_train, y_train, test_size=VALIDATION_SPLIT, random_state=RANDOM_SEED)\n",
    "\n",
    "# add an axis to input sets\n",
    "mfcc_train = mfcc_train[..., np.newaxis]\n",
    "mfcc_val = mfcc_val[..., np.newaxis]\n",
    "\n",
    "cnn_input_shape = (mfcc_train.shape[1], mfcc_train.shape[2], 1)\n",
    "mlp_input_shape = x_train.shape[1]"
   ]
  },
  {
   "cell_type": "code",
   "execution_count": 28,
   "id": "f38a82cc",
   "metadata": {
    "scrolled": true
   },
   "outputs": [
    {
     "name": "stdout",
     "output_type": "stream",
     "text": [
      "Model: \"model_2\"\n",
      "__________________________________________________________________________________________________\n",
      " Layer (type)                   Output Shape         Param #     Connected to                     \n",
      "==================================================================================================\n",
      " conv2d_15_input (InputLayer)   [(None, 259, 13, 1)  0           []                               \n",
      "                                ]                                                                 \n",
      "                                                                                                  \n",
      " conv2d_15 (Conv2D)             (None, 257, 11, 32)  320         ['conv2d_15_input[0][0]']        \n",
      "                                                                                                  \n",
      " max_pooling2d_15 (MaxPooling2D  (None, 129, 6, 32)  0           ['conv2d_15[0][0]']              \n",
      " )                                                                                                \n",
      "                                                                                                  \n",
      " batch_normalization_27 (BatchN  (None, 129, 6, 32)  128         ['max_pooling2d_15[0][0]']       \n",
      " ormalization)                                                                                    \n",
      "                                                                                                  \n",
      " conv2d_16 (Conv2D)             (None, 127, 4, 32)   9248        ['batch_normalization_27[0][0]'] \n",
      "                                                                                                  \n",
      " max_pooling2d_16 (MaxPooling2D  (None, 64, 2, 32)   0           ['conv2d_16[0][0]']              \n",
      " )                                                                                                \n",
      "                                                                                                  \n",
      " input_5 (InputLayer)           [(None, 8)]          0           []                               \n",
      "                                                                                                  \n",
      " batch_normalization_28 (BatchN  (None, 64, 2, 32)   128         ['max_pooling2d_16[0][0]']       \n",
      " ormalization)                                                                                    \n",
      "                                                                                                  \n",
      " dense_31 (Dense)               (None, 512)          4608        ['input_5[0][0]']                \n",
      "                                                                                                  \n",
      " conv2d_17 (Conv2D)             (None, 63, 1, 32)    4128        ['batch_normalization_28[0][0]'] \n",
      "                                                                                                  \n",
      " dropout_28 (Dropout)           (None, 512)          0           ['dense_31[0][0]']               \n",
      "                                                                                                  \n",
      " max_pooling2d_17 (MaxPooling2D  (None, 32, 1, 32)   0           ['conv2d_17[0][0]']              \n",
      " )                                                                                                \n",
      "                                                                                                  \n",
      " dense_32 (Dense)               (None, 256)          131328      ['dropout_28[0][0]']             \n",
      "                                                                                                  \n",
      " batch_normalization_29 (BatchN  (None, 32, 1, 32)   128         ['max_pooling2d_17[0][0]']       \n",
      " ormalization)                                                                                    \n",
      "                                                                                                  \n",
      " dropout_29 (Dropout)           (None, 256)          0           ['dense_32[0][0]']               \n",
      "                                                                                                  \n",
      " flatten_5 (Flatten)            (None, 1024)         0           ['batch_normalization_29[0][0]'] \n",
      "                                                                                                  \n",
      " dense_33 (Dense)               (None, 64)           16448       ['dropout_29[0][0]']             \n",
      "                                                                                                  \n",
      " dense_34 (Dense)               (None, 64)           65600       ['flatten_5[0][0]']              \n",
      "                                                                                                  \n",
      " dropout_30 (Dropout)           (None, 64)           0           ['dense_33[0][0]']               \n",
      "                                                                                                  \n",
      " dropout_31 (Dropout)           (None, 64)           0           ['dense_34[0][0]']               \n",
      "                                                                                                  \n",
      " concatenate_5 (Concatenate)    (None, 128)          0           ['dropout_30[0][0]',             \n",
      "                                                                  'dropout_31[0][0]']             \n",
      "                                                                                                  \n",
      " batch_normalization_30 (BatchN  (None, 128)         512         ['concatenate_5[0][0]']          \n",
      " ormalization)                                                                                    \n",
      "                                                                                                  \n",
      " dense_35 (Dense)               (None, 128)          16512       ['batch_normalization_30[0][0]'] \n",
      "                                                                                                  \n",
      " batch_normalization_31 (BatchN  (None, 128)         512         ['dense_35[0][0]']               \n",
      " ormalization)                                                                                    \n",
      "                                                                                                  \n",
      " dropout_32 (Dropout)           (None, 128)          0           ['batch_normalization_31[0][0]'] \n",
      "                                                                                                  \n",
      " dense_36 (Dense)               (None, 64)           8256        ['dropout_32[0][0]']             \n",
      "                                                                                                  \n",
      " batch_normalization_32 (BatchN  (None, 64)          256         ['dense_36[0][0]']               \n",
      " ormalization)                                                                                    \n",
      "                                                                                                  \n",
      " dropout_33 (Dropout)           (None, 64)           0           ['batch_normalization_32[0][0]'] \n",
      "                                                                                                  \n",
      " dense_37 (Dense)               (None, 8)            520         ['dropout_33[0][0]']             \n",
      "                                                                                                  \n",
      "==================================================================================================\n",
      "Total params: 258,632\n",
      "Trainable params: 257,800\n",
      "Non-trainable params: 832\n",
      "__________________________________________________________________________________________________\n"
     ]
    }
   ],
   "source": [
    "mlp = build_multimodal_mlp(mlp_input_shape)\n",
    "cnn = build_multimodal_cnn(cnn_input_shape)\n",
    "\n",
    "x = keras.layers.Concatenate()([mlp.output, cnn.output])\n",
    "\n",
    "x = keras.layers.BatchNormalization()(x)\n",
    "x = keras.layers.Dense(128, activation=\"relu\")(x)\n",
    "x = keras.layers.BatchNormalization()(x)\n",
    "x = keras.layers.Dropout(0.5)(x)\n",
    "\n",
    "x = keras.layers.Dense(64, activation=\"relu\")(x)\n",
    "x = keras.layers.BatchNormalization()(x)\n",
    "x = keras.layers.Dropout(0.25)(x)\n",
    "\n",
    "x = keras.layers.Dense(len(genres), activation=\"softmax\")(x)\n",
    "\n",
    "model = keras.Model(inputs=[mlp.input, cnn.input], outputs=x)\n",
    "\n",
    "OPTIMIZER = keras.optimizers.Adam(learning_rate=0.001)\n",
    "model.compile(loss='sparse_categorical_crossentropy', \n",
    "              metrics=['accuracy'],\n",
    "              optimizer=OPTIMIZER)\n",
    "\n",
    "model.summary()"
   ]
  },
  {
   "cell_type": "code",
   "execution_count": 29,
   "id": "c982d55d",
   "metadata": {
    "scrolled": true
   },
   "outputs": [
    {
     "name": "stdout",
     "output_type": "stream",
     "text": [
      "Epoch 1/30\n",
      "188/188 [==============================] - 5s 23ms/step - loss: 2.4964 - accuracy: 0.2606 - val_loss: 1.9839 - val_accuracy: 0.3980\n",
      "Epoch 2/30\n",
      "188/188 [==============================] - 5s 26ms/step - loss: 1.9781 - accuracy: 0.3898 - val_loss: 1.8087 - val_accuracy: 0.4365\n",
      "Epoch 3/30\n",
      "188/188 [==============================] - 5s 27ms/step - loss: 1.7837 - accuracy: 0.4372 - val_loss: 1.5816 - val_accuracy: 0.5074\n",
      "Epoch 4/30\n",
      "188/188 [==============================] - 4s 24ms/step - loss: 1.6774 - accuracy: 0.4664 - val_loss: 1.5979 - val_accuracy: 0.4794\n",
      "Epoch 5/30\n",
      "188/188 [==============================] - 5s 25ms/step - loss: 1.5708 - accuracy: 0.4958 - val_loss: 1.5375 - val_accuracy: 0.5312\n",
      "Epoch 6/30\n",
      "188/188 [==============================] - 5s 27ms/step - loss: 1.5171 - accuracy: 0.5152 - val_loss: 1.5377 - val_accuracy: 0.5218\n",
      "Epoch 7/30\n",
      "188/188 [==============================] - 5s 25ms/step - loss: 1.4601 - accuracy: 0.5369 - val_loss: 1.3765 - val_accuracy: 0.5615\n",
      "Epoch 8/30\n",
      "188/188 [==============================] - 4s 24ms/step - loss: 1.4184 - accuracy: 0.5394 - val_loss: 1.4336 - val_accuracy: 0.5226\n",
      "Epoch 9/30\n",
      "188/188 [==============================] - 4s 22ms/step - loss: 1.3467 - accuracy: 0.5733 - val_loss: 1.4030 - val_accuracy: 0.5331\n",
      "Epoch 10/30\n",
      "188/188 [==============================] - 5s 24ms/step - loss: 1.2990 - accuracy: 0.5843 - val_loss: 1.2622 - val_accuracy: 0.5954\n",
      "Epoch 11/30\n",
      "188/188 [==============================] - 4s 23ms/step - loss: 1.2158 - accuracy: 0.6078 - val_loss: 1.2187 - val_accuracy: 0.6005\n",
      "Epoch 12/30\n",
      "188/188 [==============================] - 4s 21ms/step - loss: 1.2068 - accuracy: 0.6134 - val_loss: 1.4520 - val_accuracy: 0.5343\n",
      "Epoch 13/30\n",
      "188/188 [==============================] - 4s 21ms/step - loss: 1.1722 - accuracy: 0.6219 - val_loss: 1.3373 - val_accuracy: 0.5678\n",
      "Epoch 14/30\n",
      "188/188 [==============================] - 4s 21ms/step - loss: 1.1234 - accuracy: 0.6382 - val_loss: 1.1999 - val_accuracy: 0.6079\n",
      "Epoch 15/30\n",
      "188/188 [==============================] - 4s 21ms/step - loss: 1.0732 - accuracy: 0.6533 - val_loss: 1.4196 - val_accuracy: 0.5421\n",
      "Epoch 16/30\n",
      "188/188 [==============================] - 4s 21ms/step - loss: 1.1418 - accuracy: 0.6274 - val_loss: 1.2960 - val_accuracy: 0.5736\n",
      "Epoch 17/30\n",
      "188/188 [==============================] - 4s 21ms/step - loss: 1.0208 - accuracy: 0.6691 - val_loss: 1.2135 - val_accuracy: 0.6044\n",
      "Epoch 18/30\n",
      "188/188 [==============================] - 4s 21ms/step - loss: 0.9463 - accuracy: 0.6938 - val_loss: 1.2099 - val_accuracy: 0.5970\n",
      "Epoch 19/30\n",
      "188/188 [==============================] - 4s 21ms/step - loss: 0.9887 - accuracy: 0.6750 - val_loss: 1.1286 - val_accuracy: 0.6211\n",
      "Epoch 20/30\n",
      "188/188 [==============================] - 4s 22ms/step - loss: 0.8870 - accuracy: 0.7127 - val_loss: 1.2780 - val_accuracy: 0.5907\n",
      "Epoch 21/30\n",
      "188/188 [==============================] - 4s 21ms/step - loss: 0.8823 - accuracy: 0.7149 - val_loss: 1.2659 - val_accuracy: 0.5806\n",
      "Epoch 22/30\n",
      "188/188 [==============================] - 4s 22ms/step - loss: 0.8200 - accuracy: 0.7321 - val_loss: 1.4275 - val_accuracy: 0.5833\n",
      "Epoch 23/30\n",
      "188/188 [==============================] - 4s 23ms/step - loss: 0.8124 - accuracy: 0.7402 - val_loss: 1.3540 - val_accuracy: 0.5569\n",
      "Epoch 24/30\n",
      "188/188 [==============================] - 4s 22ms/step - loss: 0.7660 - accuracy: 0.7513 - val_loss: 1.1944 - val_accuracy: 0.6036\n",
      "Epoch 25/30\n",
      "188/188 [==============================] - 4s 21ms/step - loss: 0.7298 - accuracy: 0.7646 - val_loss: 1.4593 - val_accuracy: 0.5530\n",
      "Epoch 26/30\n",
      "188/188 [==============================] - 4s 21ms/step - loss: 0.7084 - accuracy: 0.7718 - val_loss: 1.7587 - val_accuracy: 0.5386\n",
      "Epoch 27/30\n",
      "188/188 [==============================] - 4s 21ms/step - loss: 0.6798 - accuracy: 0.7770 - val_loss: 1.3808 - val_accuracy: 0.5931\n",
      "Epoch 28/30\n",
      "188/188 [==============================] - 4s 21ms/step - loss: 0.6493 - accuracy: 0.7875 - val_loss: 1.3569 - val_accuracy: 0.5802\n",
      "Epoch 29/30\n",
      "188/188 [==============================] - 4s 21ms/step - loss: 0.6400 - accuracy: 0.7938 - val_loss: 1.4331 - val_accuracy: 0.5861\n",
      "Epoch 30/30\n",
      "188/188 [==============================] - 4s 21ms/step - loss: 0.6100 - accuracy: 0.8072 - val_loss: 1.4186 - val_accuracy: 0.5880\n"
     ]
    },
    {
     "data": {
      "image/png": "[encoded data removed]",
      "text/plain": [
       "<Figure size 432x288 with 2 Axes>"
      ]
     },
     "metadata": {
      "needs_background": "light"
     },
     "output_type": "display_data"
    },
    {
     "ename": "ValueError",
     "evalue": "The truth value of an array with more than one element is ambiguous. Use a.any() or a.all()",
     "output_type": "error",
     "traceback": [
      "\u001b[0;31m---------------------------------------------------------------------------\u001b[0m",
      "\u001b[0;31mValueError\u001b[0m                                Traceback (most recent call last)",
      "Input \u001b[0;32mIn [29]\u001b[0m, in \u001b[0;36m<cell line: 8>\u001b[0;34m()\u001b[0m\n\u001b[1;32m      5\u001b[0m plot_history(history)\n\u001b[1;32m      7\u001b[0m \u001b[38;5;66;03m# evaluate model on test set\u001b[39;00m\n\u001b[0;32m----> 8\u001b[0m test_loss, test_acc \u001b[38;5;241m=\u001b[39m \u001b[43mmodel\u001b[49m\u001b[38;5;241;43m.\u001b[39;49m\u001b[43mevaluate\u001b[49m\u001b[43m(\u001b[49m\u001b[43mx_test\u001b[49m\u001b[43m,\u001b[49m\u001b[43m \u001b[49m\u001b[43mmfcc_test\u001b[49m\u001b[43m,\u001b[49m\u001b[43m \u001b[49m\u001b[43my_test\u001b[49m\u001b[43m,\u001b[49m\u001b[43m \u001b[49m\u001b[43mverbose\u001b[49m\u001b[38;5;241;43m=\u001b[39;49m\u001b[38;5;241;43m2\u001b[39;49m\u001b[43m)\u001b[49m\n\u001b[1;32m      9\u001b[0m \u001b[38;5;28mprint\u001b[39m(\u001b[38;5;124m'\u001b[39m\u001b[38;5;130;01m\\n\u001b[39;00m\u001b[38;5;124mTest accuracy:\u001b[39m\u001b[38;5;124m'\u001b[39m, test_acc)\n\u001b[1;32m     11\u001b[0m \u001b[38;5;66;03m# save model\u001b[39;00m\n",
      "File \u001b[0;32m/storage/graham/miniconda3/envs/music/lib/python3.9/site-packages/keras/utils/traceback_utils.py:67\u001b[0m, in \u001b[0;36mfilter_traceback.<locals>.error_handler\u001b[0;34m(*args, **kwargs)\u001b[0m\n\u001b[1;32m     65\u001b[0m \u001b[38;5;28;01mexcept\u001b[39;00m \u001b[38;5;167;01mException\u001b[39;00m \u001b[38;5;28;01mas\u001b[39;00m e:  \u001b[38;5;66;03m# pylint: disable=broad-except\u001b[39;00m\n\u001b[1;32m     66\u001b[0m   filtered_tb \u001b[38;5;241m=\u001b[39m _process_traceback_frames(e\u001b[38;5;241m.\u001b[39m__traceback__)\n\u001b[0;32m---> 67\u001b[0m   \u001b[38;5;28;01mraise\u001b[39;00m e\u001b[38;5;241m.\u001b[39mwith_traceback(filtered_tb) \u001b[38;5;28;01mfrom\u001b[39;00m \u001b[38;5;28mNone\u001b[39m\n\u001b[1;32m     68\u001b[0m \u001b[38;5;28;01mfinally\u001b[39;00m:\n\u001b[1;32m     69\u001b[0m   \u001b[38;5;28;01mdel\u001b[39;00m filtered_tb\n",
      "File \u001b[0;32m/storage/graham/miniconda3/envs/music/lib/python3.9/site-packages/keras/engine/data_adapter.py:251\u001b[0m, in \u001b[0;36mTensorLikeDataAdapter.__init__\u001b[0;34m(self, x, y, sample_weights, sample_weight_modes, batch_size, epochs, steps, shuffle, **kwargs)\u001b[0m\n\u001b[1;32m    247\u001b[0m _check_data_cardinality(inputs)\n\u001b[1;32m    249\u001b[0m \u001b[38;5;66;03m# If batch_size is not passed but steps is, calculate from the input data.\u001b[39;00m\n\u001b[1;32m    250\u001b[0m \u001b[38;5;66;03m# Default to 32 for backwards compat.\u001b[39;00m\n\u001b[0;32m--> 251\u001b[0m \u001b[38;5;28;01mif\u001b[39;00m \u001b[38;5;129;01mnot\u001b[39;00m batch_size:\n\u001b[1;32m    252\u001b[0m   batch_size \u001b[38;5;241m=\u001b[39m \u001b[38;5;28mint\u001b[39m(math\u001b[38;5;241m.\u001b[39mceil(num_samples \u001b[38;5;241m/\u001b[39m steps)) \u001b[38;5;28;01mif\u001b[39;00m steps \u001b[38;5;28;01melse\u001b[39;00m \u001b[38;5;241m32\u001b[39m\n\u001b[1;32m    254\u001b[0m \u001b[38;5;28mself\u001b[39m\u001b[38;5;241m.\u001b[39m_size \u001b[38;5;241m=\u001b[39m \u001b[38;5;28mint\u001b[39m(math\u001b[38;5;241m.\u001b[39mceil(num_samples \u001b[38;5;241m/\u001b[39m batch_size))\n",
      "\u001b[0;31mValueError\u001b[0m: The truth value of an array with more than one element is ambiguous. Use a.any() or a.all()"
     ]
    }
   ],
   "source": [
    "# train model\n",
    "history = model.fit([x_train, mfcc_train], y_train, validation_data=([x_val, mfcc_val], y_val), batch_size=32, epochs=30)\n",
    "\n",
    "# plot accuracy/error for training and validation\n",
    "plot_history(history)\n",
    "\n",
    "# evaluate model on test set\n",
    "test_loss, test_acc = model.evaluate([x_test, mfcc_test], y_test, verbose=2)\n",
    "print('\\nTest accuracy:', test_acc)\n",
    "\n",
    "# save model\n",
    "model.save(MODEL_PATH + \"/multimodal/\")"
   ]
  },
  {
   "cell_type": "markdown",
   "id": "ff2f6bdc",
   "metadata": {},
   "source": [
    "# TODO: Add Benchmarks for this dataset"
   ]
  },
  {
   "cell_type": "code",
   "execution_count": null,
   "id": "6e25aeb6",
   "metadata": {},
   "outputs": [],
   "source": []
  }
 ],
 "metadata": {
  "kernelspec": {
   "display_name": "music",
   "language": "python",
   "name": "music"
  },
  "language_info": {
   "codemirror_mode": {
    "name": "ipython",
    "version": 3
   },
   "file_extension": ".py",
   "mimetype": "text/x-python",
   "name": "python",
   "nbconvert_exporter": "python",
   "pygments_lexer": "ipython3",
   "version": "3.9.12"
  }
 },
 "nbformat": 4,
 "nbformat_minor": 5
}
