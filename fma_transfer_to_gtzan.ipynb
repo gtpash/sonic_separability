{
 "cells": [
  {
   "cell_type": "markdown",
   "id": "be57d1bc",
   "metadata": {},
   "source": [
    "## Necessary Imports"
   ]
  },
  {
   "cell_type": "code",
   "execution_count": null,
   "id": "a8c9c186",
   "metadata": {},
   "outputs": [],
   "source": [
    "%load_ext autoreload\n",
    "%autoreload 2\n",
    "\n",
    "import math\n",
    "import os\n",
    "import json\n",
    "\n",
    "import tensorflow as tf\n",
    "import tensorflow.keras as keras\n",
    "\n",
    "import librosa\n",
    "\n",
    "import numpy as np\n",
    "import seaborn as sns\n",
    "import pandas as pd\n",
    "\n",
    "from sklearnex import patch_sklearn\n",
    "patch_sklearn()\n",
    "from sklearn.model_selection import train_test_split, GridSearchCV\n",
    "from sklearn.metrics import accuracy_score, classification_report, confusion_matrix, ConfusionMatrixDisplay\n",
    "from sklearn.neighbors import KNeighborsClassifier\n",
    "from sklearn.ensemble import RandomForestClassifier\n",
    "from sklearn.svm import SVC\n",
    "from sklearn.manifold import TSNE\n",
    "\n",
    "import matplotlib.pyplot as plt\n",
    "%matplotlib inline\n",
    "\n",
    "# custom helper functions\n",
    "from utils import *\n",
    "\n",
    "from xgboost import XGBClassifier\n",
    "\n",
    "RANDOM_SEED = 0"
   ]
  },
  {
   "cell_type": "markdown",
   "id": "b4cb0139",
   "metadata": {},
   "source": [
    "## Load Data & Develop Test/Train Splits"
   ]
  },
  {
   "cell_type": "code",
   "execution_count": null,
   "id": "3f85885f",
   "metadata": {},
   "outputs": [],
   "source": [
    "FMA_JSON_PATH = \"/storage/graham/music/fma_small_data.json\"\n",
    "GTZAN_JSON_PATH = \"/storage/graham/music/gtzan_data.json\"\n",
    "MODEL_PATH = \"/storage/graham/music/models/\"\n",
    "\n",
    "GTZAN_SAMPLE_RATE = 22050  # gtzan sample rate\n",
    "FMA_SAMPLE_RATE = GTZAN_SAMPLE_RATE * 2  # fma sample rate\n",
    "DURATION = 30  # measure in seconds"
   ]
  },
  {
   "cell_type": "code",
   "execution_count": null,
   "id": "b5dde8eb",
   "metadata": {},
   "outputs": [],
   "source": [
    "%%time\n",
    "genres, X, y = load_mfcc_data(FMA_JSON_PATH)"
   ]
  },
  {
   "cell_type": "code",
   "execution_count": null,
   "id": "1bca43f4",
   "metadata": {},
   "outputs": [],
   "source": [
    "SPLIT = 0.3\n",
    "\n",
    "# create train/test split\n",
    "X_train, X_test, y_train, y_test = train_test_split(X, y, test_size=SPLIT)\n",
    "\n",
    "# reshape MFCC to be a vector\n",
    "X_train_vec = X_train.reshape(X_train.shape[0],X_train.shape[1]*X_train.shape[2])\n",
    "X_test_vec = X_test.reshape(X_test.shape[0],X_test.shape[1]*X_test.shape[2])\n",
    "\n",
    "X_vec = X.reshape(X.shape[0], X.shape[1]*X.shape[2])"
   ]
  },
  {
   "cell_type": "markdown",
   "id": "b910d90b",
   "metadata": {},
   "source": [
    "## Transfer Learning to GTZAN"
   ]
  },
  {
   "cell_type": "markdown",
   "id": "2959124e",
   "metadata": {},
   "source": [
    "### Load in GTZAN Dataset"
   ]
  },
  {
   "cell_type": "code",
   "execution_count": null,
   "id": "704e7c04",
   "metadata": {
    "scrolled": false
   },
   "outputs": [],
   "source": [
    "%%time\n",
    "genres_gtzan, X_gtzan, y_gtzan = load_mfcc_data(GTZAN_JSON_PATH)"
   ]
  },
  {
   "cell_type": "code",
   "execution_count": null,
   "id": "da8a20f1",
   "metadata": {},
   "outputs": [],
   "source": [
    "# create train/test split\n",
    "X_gtzan_train, X_gtzan_val, X_gtzan_test, y_gtzan_train, y_gtzan_val, y_gtzan_test = test_train_val_split(X_gtzan, y_gtzan, test_size=0.3, val_size=0.3, rseed=RANDOM_SEED)\n",
    "\n",
    "X_gtzan_vec = X_gtzan.reshape(X_gtzan.shape[0], X_gtzan.shape[1]*X_gtzan.shape[2])"
   ]
  },
  {
   "cell_type": "markdown",
   "id": "cf2f66f1",
   "metadata": {},
   "source": [
    "### Load Previous CNN Model"
   ]
  },
  {
   "cell_type": "code",
   "execution_count": null,
   "id": "309ce18b",
   "metadata": {
    "scrolled": true
   },
   "outputs": [],
   "source": [
    "base_model = keras.models.load_model(MODEL_PATH + \"/fma_cnn/\"\")\n",
    "for layer in base_model.layers:\n",
    "    layer.trainable = False\n",
    "base_model.summary()"
   ]
  },
  {
   "cell_type": "markdown",
   "id": "7d1acb0a",
   "metadata": {},
   "source": [
    "### Replace Last Layer to Match GTZAN Dimensionality"
   ]
  },
  {
   "cell_type": "code",
   "execution_count": null,
   "id": "19c87e9e",
   "metadata": {
    "scrolled": true
   },
   "outputs": [],
   "source": [
    "gtzan_predict = keras.layers.Dense(len(genres_gtzan), activation='softmax', name='gtzan')\n",
    "gtzan_transfer = replace_intermediate_layer_in_keras(base_model, 12, gtzan_predict)\n",
    "gtzan_transfer._name = \"FMA_Transfer_to_GTZAN\"\n",
    "gtzan_transfer.summary()"
   ]
  },
  {
   "cell_type": "markdown",
   "id": "9437dbd1",
   "metadata": {},
   "source": [
    "### Fine Tune on GTZAN Data"
   ]
  },
  {
   "cell_type": "code",
   "execution_count": null,
   "id": "2cae596b",
   "metadata": {
    "scrolled": true
   },
   "outputs": [],
   "source": [
    "%%time\n",
    "# compile model\n",
    "optimiser = keras.optimizers.Adam(learning_rate=0.001)\n",
    "gtzan_transfer.compile(optimizer=optimiser,\n",
    "              loss='sparse_categorical_crossentropy',\n",
    "              metrics=['accuracy'])\n",
    "\n",
    "# prep data for CNN\n",
    "X_gtzan_train_cnn = X_gtzan_train[..., np.newaxis]\n",
    "X_gtzan_val_cnn = X_gtzan_val[..., np.newaxis]\n",
    "X_gtzan_test_cnn = X_gtzan_test[..., np.newaxis]\n",
    "\n",
    "# train model\n",
    "history = gtzan_transfer.fit(X_gtzan_train_cnn, \n",
    "                             y_gtzan_train, \n",
    "                             validation_data=(X_gtzan_val_cnn, y_gtzan_val), \n",
    "                             batch_size=32, \n",
    "                             epochs=30,\n",
    "                             callbacks=[saveBest, es, lr])\n",
    "\n",
    "# plot accuracy/error for training and validation\n",
    "plot_history(history)\n",
    "\n",
    "# evaluate model on test set\n",
    "test_loss, test_acc = gtzan_transfer.evaluate(X_gtzan_test_cnn, y_gtzan_test, verbose=2)\n",
    "print('\\nTest accuracy:', test_acc)"
   ]
  },
  {
   "cell_type": "code",
   "execution_count": null,
   "id": "43669c01",
   "metadata": {},
   "outputs": [],
   "source": []
  }
 ],
 "metadata": {
  "kernelspec": {
   "display_name": "music",
   "language": "python",
   "name": "music"
  },
  "language_info": {
   "codemirror_mode": {
    "name": "ipython",
    "version": 3
   },
   "file_extension": ".py",
   "mimetype": "text/x-python",
   "name": "python",
   "nbconvert_exporter": "python",
   "pygments_lexer": "ipython3",
   "version": "3.9.12"
  }
 },
 "nbformat": 4,
 "nbformat_minor": 5
}
